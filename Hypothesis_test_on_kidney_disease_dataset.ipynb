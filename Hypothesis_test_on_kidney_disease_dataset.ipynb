{
 "cells": [
  {
   "cell_type": "markdown",
   "metadata": {},
   "source": [
    "# Hypothesis_test_on_kidney_disease_dataset"
   ]
  },
  {
   "cell_type": "code",
   "execution_count": 42,
   "metadata": {
    "ExecuteTime": {
     "end_time": "2021-09-02T13:47:10.655244Z",
     "start_time": "2021-09-02T13:47:10.592259Z"
    }
   },
   "outputs": [],
   "source": [
    "import numpy as np\n",
    "import pandas as pd\n",
    "import matplotlib.pyplot as plt\n",
    "import seaborn as sns\n",
    "import warnings\n",
    "warnings.filterwarnings('ignore')"
   ]
  },
  {
   "cell_type": "code",
   "execution_count": 43,
   "metadata": {
    "ExecuteTime": {
     "end_time": "2021-09-02T13:47:10.835119Z",
     "start_time": "2021-09-02T13:47:10.659221Z"
    }
   },
   "outputs": [],
   "source": [
    "pd.set_option('display.max_columns',None)"
   ]
  },
  {
   "cell_type": "code",
   "execution_count": 44,
   "metadata": {
    "ExecuteTime": {
     "end_time": "2021-09-02T13:47:11.731620Z",
     "start_time": "2021-09-02T13:47:10.841116Z"
    }
   },
   "outputs": [
    {
     "data": {
      "text/html": [
       "<div>\n",
       "<style scoped>\n",
       "    .dataframe tbody tr th:only-of-type {\n",
       "        vertical-align: middle;\n",
       "    }\n",
       "\n",
       "    .dataframe tbody tr th {\n",
       "        vertical-align: top;\n",
       "    }\n",
       "\n",
       "    .dataframe thead th {\n",
       "        text-align: right;\n",
       "    }\n",
       "</style>\n",
       "<table border=\"1\" class=\"dataframe\">\n",
       "  <thead>\n",
       "    <tr style=\"text-align: right;\">\n",
       "      <th></th>\n",
       "      <th>id</th>\n",
       "      <th>age</th>\n",
       "      <th>bp</th>\n",
       "      <th>sg</th>\n",
       "      <th>al</th>\n",
       "      <th>su</th>\n",
       "      <th>rbc</th>\n",
       "      <th>pc</th>\n",
       "      <th>pcc</th>\n",
       "      <th>ba</th>\n",
       "      <th>bgr</th>\n",
       "      <th>bu</th>\n",
       "      <th>sc</th>\n",
       "      <th>sod</th>\n",
       "      <th>pot</th>\n",
       "      <th>hemo</th>\n",
       "      <th>pcv</th>\n",
       "      <th>wc</th>\n",
       "      <th>rc</th>\n",
       "      <th>htn</th>\n",
       "      <th>dm</th>\n",
       "      <th>cad</th>\n",
       "      <th>appet</th>\n",
       "      <th>pe</th>\n",
       "      <th>ane</th>\n",
       "      <th>classification</th>\n",
       "    </tr>\n",
       "  </thead>\n",
       "  <tbody>\n",
       "    <tr>\n",
       "      <th>0</th>\n",
       "      <td>157</td>\n",
       "      <td>62.0</td>\n",
       "      <td>70.0</td>\n",
       "      <td>1.025</td>\n",
       "      <td>3.0</td>\n",
       "      <td>0.0</td>\n",
       "      <td>normal</td>\n",
       "      <td>abnormal</td>\n",
       "      <td>notpresent</td>\n",
       "      <td>notpresent</td>\n",
       "      <td>122.0</td>\n",
       "      <td>42.0</td>\n",
       "      <td>1.7</td>\n",
       "      <td>136.0</td>\n",
       "      <td>4.7</td>\n",
       "      <td>12.6</td>\n",
       "      <td>39.0</td>\n",
       "      <td>7900</td>\n",
       "      <td>3.9</td>\n",
       "      <td>yes</td>\n",
       "      <td>yes</td>\n",
       "      <td>no</td>\n",
       "      <td>good</td>\n",
       "      <td>no</td>\n",
       "      <td>no</td>\n",
       "      <td>ckd</td>\n",
       "    </tr>\n",
       "    <tr>\n",
       "      <th>1</th>\n",
       "      <td>109</td>\n",
       "      <td>54.0</td>\n",
       "      <td>70.0</td>\n",
       "      <td>NaN</td>\n",
       "      <td>NaN</td>\n",
       "      <td>NaN</td>\n",
       "      <td>NaN</td>\n",
       "      <td>NaN</td>\n",
       "      <td>notpresent</td>\n",
       "      <td>notpresent</td>\n",
       "      <td>233.0</td>\n",
       "      <td>50.1</td>\n",
       "      <td>1.9</td>\n",
       "      <td>NaN</td>\n",
       "      <td>NaN</td>\n",
       "      <td>11.7</td>\n",
       "      <td>NaN</td>\n",
       "      <td>NaN</td>\n",
       "      <td>NaN</td>\n",
       "      <td>no</td>\n",
       "      <td>yes</td>\n",
       "      <td>no</td>\n",
       "      <td>good</td>\n",
       "      <td>no</td>\n",
       "      <td>no</td>\n",
       "      <td>ckd</td>\n",
       "    </tr>\n",
       "    <tr>\n",
       "      <th>2</th>\n",
       "      <td>17</td>\n",
       "      <td>47.0</td>\n",
       "      <td>80.0</td>\n",
       "      <td>NaN</td>\n",
       "      <td>NaN</td>\n",
       "      <td>NaN</td>\n",
       "      <td>NaN</td>\n",
       "      <td>NaN</td>\n",
       "      <td>notpresent</td>\n",
       "      <td>notpresent</td>\n",
       "      <td>114.0</td>\n",
       "      <td>87.0</td>\n",
       "      <td>5.2</td>\n",
       "      <td>139.0</td>\n",
       "      <td>3.7</td>\n",
       "      <td>12.1</td>\n",
       "      <td>NaN</td>\n",
       "      <td>NaN</td>\n",
       "      <td>NaN</td>\n",
       "      <td>yes</td>\n",
       "      <td>no</td>\n",
       "      <td>no</td>\n",
       "      <td>poor</td>\n",
       "      <td>no</td>\n",
       "      <td>no</td>\n",
       "      <td>ckd</td>\n",
       "    </tr>\n",
       "    <tr>\n",
       "      <th>3</th>\n",
       "      <td>347</td>\n",
       "      <td>43.0</td>\n",
       "      <td>60.0</td>\n",
       "      <td>1.025</td>\n",
       "      <td>0.0</td>\n",
       "      <td>0.0</td>\n",
       "      <td>normal</td>\n",
       "      <td>normal</td>\n",
       "      <td>notpresent</td>\n",
       "      <td>notpresent</td>\n",
       "      <td>108.0</td>\n",
       "      <td>25.0</td>\n",
       "      <td>1.0</td>\n",
       "      <td>144.0</td>\n",
       "      <td>5.0</td>\n",
       "      <td>17.8</td>\n",
       "      <td>43.0</td>\n",
       "      <td>7200</td>\n",
       "      <td>5.5</td>\n",
       "      <td>no</td>\n",
       "      <td>no</td>\n",
       "      <td>no</td>\n",
       "      <td>good</td>\n",
       "      <td>no</td>\n",
       "      <td>no</td>\n",
       "      <td>notckd</td>\n",
       "    </tr>\n",
       "    <tr>\n",
       "      <th>4</th>\n",
       "      <td>24</td>\n",
       "      <td>42.0</td>\n",
       "      <td>100.0</td>\n",
       "      <td>1.015</td>\n",
       "      <td>4.0</td>\n",
       "      <td>0.0</td>\n",
       "      <td>normal</td>\n",
       "      <td>abnormal</td>\n",
       "      <td>notpresent</td>\n",
       "      <td>present</td>\n",
       "      <td>NaN</td>\n",
       "      <td>50.0</td>\n",
       "      <td>1.4</td>\n",
       "      <td>129.0</td>\n",
       "      <td>4.0</td>\n",
       "      <td>11.1</td>\n",
       "      <td>39.0</td>\n",
       "      <td>8300</td>\n",
       "      <td>4.6</td>\n",
       "      <td>yes</td>\n",
       "      <td>no</td>\n",
       "      <td>no</td>\n",
       "      <td>poor</td>\n",
       "      <td>no</td>\n",
       "      <td>no</td>\n",
       "      <td>ckd</td>\n",
       "    </tr>\n",
       "  </tbody>\n",
       "</table>\n",
       "</div>"
      ],
      "text/plain": [
       "    id   age     bp     sg   al   su     rbc        pc         pcc  \\\n",
       "0  157  62.0   70.0  1.025  3.0  0.0  normal  abnormal  notpresent   \n",
       "1  109  54.0   70.0    NaN  NaN  NaN     NaN       NaN  notpresent   \n",
       "2   17  47.0   80.0    NaN  NaN  NaN     NaN       NaN  notpresent   \n",
       "3  347  43.0   60.0  1.025  0.0  0.0  normal    normal  notpresent   \n",
       "4   24  42.0  100.0  1.015  4.0  0.0  normal  abnormal  notpresent   \n",
       "\n",
       "           ba    bgr    bu   sc    sod  pot  hemo   pcv    wc   rc  htn   dm  \\\n",
       "0  notpresent  122.0  42.0  1.7  136.0  4.7  12.6  39.0  7900  3.9  yes  yes   \n",
       "1  notpresent  233.0  50.1  1.9    NaN  NaN  11.7   NaN   NaN  NaN   no  yes   \n",
       "2  notpresent  114.0  87.0  5.2  139.0  3.7  12.1   NaN   NaN  NaN  yes   no   \n",
       "3  notpresent  108.0  25.0  1.0  144.0  5.0  17.8  43.0  7200  5.5   no   no   \n",
       "4     present    NaN  50.0  1.4  129.0  4.0  11.1  39.0  8300  4.6  yes   no   \n",
       "\n",
       "  cad appet  pe ane classification  \n",
       "0  no  good  no  no            ckd  \n",
       "1  no  good  no  no            ckd  \n",
       "2  no  poor  no  no            ckd  \n",
       "3  no  good  no  no         notckd  \n",
       "4  no  poor  no  no            ckd  "
      ]
     },
     "execution_count": 44,
     "metadata": {},
     "output_type": "execute_result"
    }
   ],
   "source": [
    "df=pd.read_csv('kidney_disease_train.csv')\n",
    "df.head()"
   ]
  },
  {
   "cell_type": "code",
   "execution_count": 45,
   "metadata": {
    "ExecuteTime": {
     "end_time": "2021-09-02T13:47:12.758950Z",
     "start_time": "2021-09-02T13:47:11.751751Z"
    }
   },
   "outputs": [
    {
     "name": "stdout",
     "output_type": "stream",
     "text": [
      "<class 'pandas.core.frame.DataFrame'>\n",
      "RangeIndex: 280 entries, 0 to 279\n",
      "Data columns (total 26 columns):\n",
      " #   Column          Non-Null Count  Dtype  \n",
      "---  ------          --------------  -----  \n",
      " 0   id              280 non-null    int64  \n",
      " 1   age             275 non-null    float64\n",
      " 2   bp              271 non-null    float64\n",
      " 3   sg              244 non-null    float64\n",
      " 4   al              245 non-null    float64\n",
      " 5   su              242 non-null    float64\n",
      " 6   rbc             173 non-null    object \n",
      " 7   pc              230 non-null    object \n",
      " 8   pcc             276 non-null    object \n",
      " 9   ba              276 non-null    object \n",
      " 10  bgr             247 non-null    float64\n",
      " 11  bu              266 non-null    float64\n",
      " 12  sc              268 non-null    float64\n",
      " 13  sod             213 non-null    float64\n",
      " 14  pot             212 non-null    float64\n",
      " 15  hemo            241 non-null    float64\n",
      " 16  pcv             229 non-null    float64\n",
      " 17  wc              203 non-null    object \n",
      " 18  rc              187 non-null    object \n",
      " 19  htn             279 non-null    object \n",
      " 20  dm              279 non-null    object \n",
      " 21  cad             279 non-null    object \n",
      " 22  appet           280 non-null    object \n",
      " 23  pe              280 non-null    object \n",
      " 24  ane             280 non-null    object \n",
      " 25  classification  280 non-null    object \n",
      "dtypes: float64(12), int64(1), object(13)\n",
      "memory usage: 57.0+ KB\n"
     ]
    }
   ],
   "source": [
    "df.info()"
   ]
  },
  {
   "cell_type": "code",
   "execution_count": 46,
   "metadata": {
    "ExecuteTime": {
     "end_time": "2021-09-02T13:47:13.553844Z",
     "start_time": "2021-09-02T13:47:12.763946Z"
    }
   },
   "outputs": [
    {
     "data": {
      "text/html": [
       "<div>\n",
       "<style scoped>\n",
       "    .dataframe tbody tr th:only-of-type {\n",
       "        vertical-align: middle;\n",
       "    }\n",
       "\n",
       "    .dataframe tbody tr th {\n",
       "        vertical-align: top;\n",
       "    }\n",
       "\n",
       "    .dataframe thead th {\n",
       "        text-align: right;\n",
       "    }\n",
       "</style>\n",
       "<table border=\"1\" class=\"dataframe\">\n",
       "  <thead>\n",
       "    <tr style=\"text-align: right;\">\n",
       "      <th></th>\n",
       "      <th>count</th>\n",
       "      <th>mean</th>\n",
       "      <th>std</th>\n",
       "      <th>min</th>\n",
       "      <th>1%</th>\n",
       "      <th>5%</th>\n",
       "      <th>10%</th>\n",
       "      <th>25%</th>\n",
       "      <th>50%</th>\n",
       "      <th>75%</th>\n",
       "      <th>90%</th>\n",
       "      <th>99%</th>\n",
       "      <th>max</th>\n",
       "    </tr>\n",
       "  </thead>\n",
       "  <tbody>\n",
       "    <tr>\n",
       "      <th>id</th>\n",
       "      <td>280.0</td>\n",
       "      <td>202.928571</td>\n",
       "      <td>111.988168</td>\n",
       "      <td>1.000</td>\n",
       "      <td>5.580</td>\n",
       "      <td>23.95</td>\n",
       "      <td>43.90</td>\n",
       "      <td>110.50</td>\n",
       "      <td>202.00</td>\n",
       "      <td>302.25</td>\n",
       "      <td>354.200</td>\n",
       "      <td>393.840</td>\n",
       "      <td>399.000</td>\n",
       "    </tr>\n",
       "    <tr>\n",
       "      <th>age</th>\n",
       "      <td>275.0</td>\n",
       "      <td>51.454545</td>\n",
       "      <td>17.476176</td>\n",
       "      <td>2.000</td>\n",
       "      <td>5.480</td>\n",
       "      <td>19.10</td>\n",
       "      <td>26.40</td>\n",
       "      <td>42.00</td>\n",
       "      <td>55.00</td>\n",
       "      <td>65.00</td>\n",
       "      <td>71.600</td>\n",
       "      <td>80.260</td>\n",
       "      <td>90.000</td>\n",
       "    </tr>\n",
       "    <tr>\n",
       "      <th>bp</th>\n",
       "      <td>271.0</td>\n",
       "      <td>76.051661</td>\n",
       "      <td>14.256289</td>\n",
       "      <td>50.000</td>\n",
       "      <td>50.000</td>\n",
       "      <td>60.00</td>\n",
       "      <td>60.00</td>\n",
       "      <td>70.00</td>\n",
       "      <td>70.00</td>\n",
       "      <td>80.00</td>\n",
       "      <td>90.000</td>\n",
       "      <td>113.000</td>\n",
       "      <td>180.000</td>\n",
       "    </tr>\n",
       "    <tr>\n",
       "      <th>sg</th>\n",
       "      <td>244.0</td>\n",
       "      <td>1.017439</td>\n",
       "      <td>0.005746</td>\n",
       "      <td>1.005</td>\n",
       "      <td>1.005</td>\n",
       "      <td>1.01</td>\n",
       "      <td>1.01</td>\n",
       "      <td>1.01</td>\n",
       "      <td>1.02</td>\n",
       "      <td>1.02</td>\n",
       "      <td>1.025</td>\n",
       "      <td>1.025</td>\n",
       "      <td>1.025</td>\n",
       "    </tr>\n",
       "    <tr>\n",
       "      <th>al</th>\n",
       "      <td>245.0</td>\n",
       "      <td>1.024490</td>\n",
       "      <td>1.375805</td>\n",
       "      <td>0.000</td>\n",
       "      <td>0.000</td>\n",
       "      <td>0.00</td>\n",
       "      <td>0.00</td>\n",
       "      <td>0.00</td>\n",
       "      <td>0.00</td>\n",
       "      <td>2.00</td>\n",
       "      <td>3.000</td>\n",
       "      <td>4.000</td>\n",
       "      <td>5.000</td>\n",
       "    </tr>\n",
       "    <tr>\n",
       "      <th>su</th>\n",
       "      <td>242.0</td>\n",
       "      <td>0.438017</td>\n",
       "      <td>1.073193</td>\n",
       "      <td>0.000</td>\n",
       "      <td>0.000</td>\n",
       "      <td>0.00</td>\n",
       "      <td>0.00</td>\n",
       "      <td>0.00</td>\n",
       "      <td>0.00</td>\n",
       "      <td>0.00</td>\n",
       "      <td>2.000</td>\n",
       "      <td>4.000</td>\n",
       "      <td>5.000</td>\n",
       "    </tr>\n",
       "    <tr>\n",
       "      <th>bgr</th>\n",
       "      <td>247.0</td>\n",
       "      <td>150.186235</td>\n",
       "      <td>77.357144</td>\n",
       "      <td>70.000</td>\n",
       "      <td>71.840</td>\n",
       "      <td>80.30</td>\n",
       "      <td>87.60</td>\n",
       "      <td>100.00</td>\n",
       "      <td>124.00</td>\n",
       "      <td>171.50</td>\n",
       "      <td>250.400</td>\n",
       "      <td>436.880</td>\n",
       "      <td>490.000</td>\n",
       "    </tr>\n",
       "    <tr>\n",
       "      <th>bu</th>\n",
       "      <td>266.0</td>\n",
       "      <td>56.983835</td>\n",
       "      <td>51.456635</td>\n",
       "      <td>10.000</td>\n",
       "      <td>15.000</td>\n",
       "      <td>17.00</td>\n",
       "      <td>19.00</td>\n",
       "      <td>27.25</td>\n",
       "      <td>41.00</td>\n",
       "      <td>64.75</td>\n",
       "      <td>114.500</td>\n",
       "      <td>264.800</td>\n",
       "      <td>391.000</td>\n",
       "    </tr>\n",
       "    <tr>\n",
       "      <th>sc</th>\n",
       "      <td>268.0</td>\n",
       "      <td>3.006157</td>\n",
       "      <td>5.850085</td>\n",
       "      <td>0.400</td>\n",
       "      <td>0.500</td>\n",
       "      <td>0.50</td>\n",
       "      <td>0.60</td>\n",
       "      <td>0.90</td>\n",
       "      <td>1.30</td>\n",
       "      <td>2.80</td>\n",
       "      <td>6.430</td>\n",
       "      <td>19.980</td>\n",
       "      <td>76.000</td>\n",
       "    </tr>\n",
       "    <tr>\n",
       "      <th>sod</th>\n",
       "      <td>213.0</td>\n",
       "      <td>137.255869</td>\n",
       "      <td>11.677123</td>\n",
       "      <td>4.500</td>\n",
       "      <td>113.120</td>\n",
       "      <td>124.60</td>\n",
       "      <td>130.00</td>\n",
       "      <td>135.00</td>\n",
       "      <td>138.00</td>\n",
       "      <td>141.00</td>\n",
       "      <td>147.000</td>\n",
       "      <td>150.000</td>\n",
       "      <td>163.000</td>\n",
       "    </tr>\n",
       "    <tr>\n",
       "      <th>pot</th>\n",
       "      <td>212.0</td>\n",
       "      <td>4.754245</td>\n",
       "      <td>3.826341</td>\n",
       "      <td>2.700</td>\n",
       "      <td>2.911</td>\n",
       "      <td>3.40</td>\n",
       "      <td>3.50</td>\n",
       "      <td>3.90</td>\n",
       "      <td>4.40</td>\n",
       "      <td>4.90</td>\n",
       "      <td>5.200</td>\n",
       "      <td>6.489</td>\n",
       "      <td>47.000</td>\n",
       "    </tr>\n",
       "    <tr>\n",
       "      <th>hemo</th>\n",
       "      <td>241.0</td>\n",
       "      <td>12.531535</td>\n",
       "      <td>2.882635</td>\n",
       "      <td>3.100</td>\n",
       "      <td>5.880</td>\n",
       "      <td>7.90</td>\n",
       "      <td>8.70</td>\n",
       "      <td>10.50</td>\n",
       "      <td>12.70</td>\n",
       "      <td>14.90</td>\n",
       "      <td>16.100</td>\n",
       "      <td>17.660</td>\n",
       "      <td>17.800</td>\n",
       "    </tr>\n",
       "    <tr>\n",
       "      <th>pcv</th>\n",
       "      <td>229.0</td>\n",
       "      <td>39.165939</td>\n",
       "      <td>8.774388</td>\n",
       "      <td>9.000</td>\n",
       "      <td>17.280</td>\n",
       "      <td>24.40</td>\n",
       "      <td>28.00</td>\n",
       "      <td>33.00</td>\n",
       "      <td>41.00</td>\n",
       "      <td>46.00</td>\n",
       "      <td>50.000</td>\n",
       "      <td>52.720</td>\n",
       "      <td>54.000</td>\n",
       "    </tr>\n",
       "  </tbody>\n",
       "</table>\n",
       "</div>"
      ],
      "text/plain": [
       "      count        mean         std     min       1%      5%     10%     25%  \\\n",
       "id    280.0  202.928571  111.988168   1.000    5.580   23.95   43.90  110.50   \n",
       "age   275.0   51.454545   17.476176   2.000    5.480   19.10   26.40   42.00   \n",
       "bp    271.0   76.051661   14.256289  50.000   50.000   60.00   60.00   70.00   \n",
       "sg    244.0    1.017439    0.005746   1.005    1.005    1.01    1.01    1.01   \n",
       "al    245.0    1.024490    1.375805   0.000    0.000    0.00    0.00    0.00   \n",
       "su    242.0    0.438017    1.073193   0.000    0.000    0.00    0.00    0.00   \n",
       "bgr   247.0  150.186235   77.357144  70.000   71.840   80.30   87.60  100.00   \n",
       "bu    266.0   56.983835   51.456635  10.000   15.000   17.00   19.00   27.25   \n",
       "sc    268.0    3.006157    5.850085   0.400    0.500    0.50    0.60    0.90   \n",
       "sod   213.0  137.255869   11.677123   4.500  113.120  124.60  130.00  135.00   \n",
       "pot   212.0    4.754245    3.826341   2.700    2.911    3.40    3.50    3.90   \n",
       "hemo  241.0   12.531535    2.882635   3.100    5.880    7.90    8.70   10.50   \n",
       "pcv   229.0   39.165939    8.774388   9.000   17.280   24.40   28.00   33.00   \n",
       "\n",
       "         50%     75%      90%      99%      max  \n",
       "id    202.00  302.25  354.200  393.840  399.000  \n",
       "age    55.00   65.00   71.600   80.260   90.000  \n",
       "bp     70.00   80.00   90.000  113.000  180.000  \n",
       "sg      1.02    1.02    1.025    1.025    1.025  \n",
       "al      0.00    2.00    3.000    4.000    5.000  \n",
       "su      0.00    0.00    2.000    4.000    5.000  \n",
       "bgr   124.00  171.50  250.400  436.880  490.000  \n",
       "bu     41.00   64.75  114.500  264.800  391.000  \n",
       "sc      1.30    2.80    6.430   19.980   76.000  \n",
       "sod   138.00  141.00  147.000  150.000  163.000  \n",
       "pot     4.40    4.90    5.200    6.489   47.000  \n",
       "hemo   12.70   14.90   16.100   17.660   17.800  \n",
       "pcv    41.00   46.00   50.000   52.720   54.000  "
      ]
     },
     "execution_count": 46,
     "metadata": {},
     "output_type": "execute_result"
    }
   ],
   "source": [
    "df.describe(percentiles=(0.01,0.05,0.1,0.25,0.5,0.75,0.90,0.99)).T"
   ]
  },
  {
   "cell_type": "code",
   "execution_count": 47,
   "metadata": {
    "ExecuteTime": {
     "end_time": "2021-09-02T13:47:13.584901Z",
     "start_time": "2021-09-02T13:47:13.563893Z"
    }
   },
   "outputs": [
    {
     "data": {
      "text/plain": [
       "ckd       174\n",
       "notckd    106\n",
       "Name: classification, dtype: int64"
      ]
     },
     "execution_count": 47,
     "metadata": {},
     "output_type": "execute_result"
    }
   ],
   "source": [
    "df.classification.value_counts()"
   ]
  },
  {
   "cell_type": "code",
   "execution_count": 48,
   "metadata": {
    "ExecuteTime": {
     "end_time": "2021-09-02T13:47:13.741306Z",
     "start_time": "2021-09-02T13:47:13.588877Z"
    }
   },
   "outputs": [],
   "source": [
    "df_ckd=df[df['classification']=='ckd']"
   ]
  },
  {
   "cell_type": "code",
   "execution_count": 49,
   "metadata": {
    "ExecuteTime": {
     "end_time": "2021-09-02T13:47:13.930494Z",
     "start_time": "2021-09-02T13:47:13.746305Z"
    }
   },
   "outputs": [
    {
     "data": {
      "text/plain": [
       "(174, 26)"
      ]
     },
     "execution_count": 49,
     "metadata": {},
     "output_type": "execute_result"
    }
   ],
   "source": [
    "df_ckd.shape"
   ]
  },
  {
   "cell_type": "code",
   "execution_count": 50,
   "metadata": {
    "ExecuteTime": {
     "end_time": "2021-09-02T13:47:29.890831Z",
     "start_time": "2021-09-02T13:47:29.807048Z"
    },
    "scrolled": true
   },
   "outputs": [
    {
     "data": {
      "text/html": [
       "<div>\n",
       "<style scoped>\n",
       "    .dataframe tbody tr th:only-of-type {\n",
       "        vertical-align: middle;\n",
       "    }\n",
       "\n",
       "    .dataframe tbody tr th {\n",
       "        vertical-align: top;\n",
       "    }\n",
       "\n",
       "    .dataframe thead th {\n",
       "        text-align: right;\n",
       "    }\n",
       "</style>\n",
       "<table border=\"1\" class=\"dataframe\">\n",
       "  <thead>\n",
       "    <tr style=\"text-align: right;\">\n",
       "      <th></th>\n",
       "      <th>id</th>\n",
       "      <th>age</th>\n",
       "      <th>bp</th>\n",
       "      <th>sg</th>\n",
       "      <th>al</th>\n",
       "      <th>su</th>\n",
       "      <th>rbc</th>\n",
       "      <th>pc</th>\n",
       "      <th>pcc</th>\n",
       "      <th>ba</th>\n",
       "      <th>bgr</th>\n",
       "      <th>bu</th>\n",
       "      <th>sc</th>\n",
       "      <th>sod</th>\n",
       "      <th>pot</th>\n",
       "      <th>hemo</th>\n",
       "      <th>pcv</th>\n",
       "      <th>wc</th>\n",
       "      <th>rc</th>\n",
       "      <th>htn</th>\n",
       "      <th>dm</th>\n",
       "      <th>cad</th>\n",
       "      <th>appet</th>\n",
       "      <th>pe</th>\n",
       "      <th>ane</th>\n",
       "      <th>classification</th>\n",
       "    </tr>\n",
       "  </thead>\n",
       "  <tbody>\n",
       "    <tr>\n",
       "      <th>0</th>\n",
       "      <td>157</td>\n",
       "      <td>62.0</td>\n",
       "      <td>70.0</td>\n",
       "      <td>1.025</td>\n",
       "      <td>3.0</td>\n",
       "      <td>0.0</td>\n",
       "      <td>normal</td>\n",
       "      <td>abnormal</td>\n",
       "      <td>notpresent</td>\n",
       "      <td>notpresent</td>\n",
       "      <td>122.0</td>\n",
       "      <td>42.0</td>\n",
       "      <td>1.7</td>\n",
       "      <td>136.0</td>\n",
       "      <td>4.7</td>\n",
       "      <td>12.6</td>\n",
       "      <td>39.0</td>\n",
       "      <td>7900</td>\n",
       "      <td>3.9</td>\n",
       "      <td>yes</td>\n",
       "      <td>yes</td>\n",
       "      <td>no</td>\n",
       "      <td>good</td>\n",
       "      <td>no</td>\n",
       "      <td>no</td>\n",
       "      <td>ckd</td>\n",
       "    </tr>\n",
       "    <tr>\n",
       "      <th>1</th>\n",
       "      <td>109</td>\n",
       "      <td>54.0</td>\n",
       "      <td>70.0</td>\n",
       "      <td>NaN</td>\n",
       "      <td>NaN</td>\n",
       "      <td>NaN</td>\n",
       "      <td>NaN</td>\n",
       "      <td>NaN</td>\n",
       "      <td>notpresent</td>\n",
       "      <td>notpresent</td>\n",
       "      <td>233.0</td>\n",
       "      <td>50.1</td>\n",
       "      <td>1.9</td>\n",
       "      <td>NaN</td>\n",
       "      <td>NaN</td>\n",
       "      <td>11.7</td>\n",
       "      <td>NaN</td>\n",
       "      <td>NaN</td>\n",
       "      <td>NaN</td>\n",
       "      <td>no</td>\n",
       "      <td>yes</td>\n",
       "      <td>no</td>\n",
       "      <td>good</td>\n",
       "      <td>no</td>\n",
       "      <td>no</td>\n",
       "      <td>ckd</td>\n",
       "    </tr>\n",
       "    <tr>\n",
       "      <th>2</th>\n",
       "      <td>17</td>\n",
       "      <td>47.0</td>\n",
       "      <td>80.0</td>\n",
       "      <td>NaN</td>\n",
       "      <td>NaN</td>\n",
       "      <td>NaN</td>\n",
       "      <td>NaN</td>\n",
       "      <td>NaN</td>\n",
       "      <td>notpresent</td>\n",
       "      <td>notpresent</td>\n",
       "      <td>114.0</td>\n",
       "      <td>87.0</td>\n",
       "      <td>5.2</td>\n",
       "      <td>139.0</td>\n",
       "      <td>3.7</td>\n",
       "      <td>12.1</td>\n",
       "      <td>NaN</td>\n",
       "      <td>NaN</td>\n",
       "      <td>NaN</td>\n",
       "      <td>yes</td>\n",
       "      <td>no</td>\n",
       "      <td>no</td>\n",
       "      <td>poor</td>\n",
       "      <td>no</td>\n",
       "      <td>no</td>\n",
       "      <td>ckd</td>\n",
       "    </tr>\n",
       "    <tr>\n",
       "      <th>4</th>\n",
       "      <td>24</td>\n",
       "      <td>42.0</td>\n",
       "      <td>100.0</td>\n",
       "      <td>1.015</td>\n",
       "      <td>4.0</td>\n",
       "      <td>0.0</td>\n",
       "      <td>normal</td>\n",
       "      <td>abnormal</td>\n",
       "      <td>notpresent</td>\n",
       "      <td>present</td>\n",
       "      <td>NaN</td>\n",
       "      <td>50.0</td>\n",
       "      <td>1.4</td>\n",
       "      <td>129.0</td>\n",
       "      <td>4.0</td>\n",
       "      <td>11.1</td>\n",
       "      <td>39.0</td>\n",
       "      <td>8300</td>\n",
       "      <td>4.6</td>\n",
       "      <td>yes</td>\n",
       "      <td>no</td>\n",
       "      <td>no</td>\n",
       "      <td>poor</td>\n",
       "      <td>no</td>\n",
       "      <td>no</td>\n",
       "      <td>ckd</td>\n",
       "    </tr>\n",
       "    <tr>\n",
       "      <th>5</th>\n",
       "      <td>175</td>\n",
       "      <td>60.0</td>\n",
       "      <td>50.0</td>\n",
       "      <td>1.010</td>\n",
       "      <td>0.0</td>\n",
       "      <td>0.0</td>\n",
       "      <td>NaN</td>\n",
       "      <td>normal</td>\n",
       "      <td>notpresent</td>\n",
       "      <td>notpresent</td>\n",
       "      <td>261.0</td>\n",
       "      <td>58.0</td>\n",
       "      <td>2.2</td>\n",
       "      <td>113.0</td>\n",
       "      <td>3.0</td>\n",
       "      <td>NaN</td>\n",
       "      <td>NaN</td>\n",
       "      <td>4200</td>\n",
       "      <td>3.4</td>\n",
       "      <td>yes</td>\n",
       "      <td>no</td>\n",
       "      <td>no</td>\n",
       "      <td>good</td>\n",
       "      <td>no</td>\n",
       "      <td>no</td>\n",
       "      <td>ckd</td>\n",
       "    </tr>\n",
       "  </tbody>\n",
       "</table>\n",
       "</div>"
      ],
      "text/plain": [
       "    id   age     bp     sg   al   su     rbc        pc         pcc  \\\n",
       "0  157  62.0   70.0  1.025  3.0  0.0  normal  abnormal  notpresent   \n",
       "1  109  54.0   70.0    NaN  NaN  NaN     NaN       NaN  notpresent   \n",
       "2   17  47.0   80.0    NaN  NaN  NaN     NaN       NaN  notpresent   \n",
       "4   24  42.0  100.0  1.015  4.0  0.0  normal  abnormal  notpresent   \n",
       "5  175  60.0   50.0  1.010  0.0  0.0     NaN    normal  notpresent   \n",
       "\n",
       "           ba    bgr    bu   sc    sod  pot  hemo   pcv    wc   rc  htn   dm  \\\n",
       "0  notpresent  122.0  42.0  1.7  136.0  4.7  12.6  39.0  7900  3.9  yes  yes   \n",
       "1  notpresent  233.0  50.1  1.9    NaN  NaN  11.7   NaN   NaN  NaN   no  yes   \n",
       "2  notpresent  114.0  87.0  5.2  139.0  3.7  12.1   NaN   NaN  NaN  yes   no   \n",
       "4     present    NaN  50.0  1.4  129.0  4.0  11.1  39.0  8300  4.6  yes   no   \n",
       "5  notpresent  261.0  58.0  2.2  113.0  3.0   NaN   NaN  4200  3.4  yes   no   \n",
       "\n",
       "  cad appet  pe ane classification  \n",
       "0  no  good  no  no            ckd  \n",
       "1  no  good  no  no            ckd  \n",
       "2  no  poor  no  no            ckd  \n",
       "4  no  poor  no  no            ckd  \n",
       "5  no  good  no  no            ckd  "
      ]
     },
     "execution_count": 50,
     "metadata": {},
     "output_type": "execute_result"
    }
   ],
   "source": [
    "df_ckd.head()"
   ]
  },
  {
   "cell_type": "code",
   "execution_count": 51,
   "metadata": {
    "ExecuteTime": {
     "end_time": "2021-09-02T13:48:04.099165Z",
     "start_time": "2021-09-02T13:48:03.943233Z"
    },
    "scrolled": false
   },
   "outputs": [
    {
     "data": {
      "text/html": [
       "<div>\n",
       "<style scoped>\n",
       "    .dataframe tbody tr th:only-of-type {\n",
       "        vertical-align: middle;\n",
       "    }\n",
       "\n",
       "    .dataframe tbody tr th {\n",
       "        vertical-align: top;\n",
       "    }\n",
       "\n",
       "    .dataframe thead th {\n",
       "        text-align: right;\n",
       "    }\n",
       "</style>\n",
       "<table border=\"1\" class=\"dataframe\">\n",
       "  <thead>\n",
       "    <tr style=\"text-align: right;\">\n",
       "      <th></th>\n",
       "      <th>count</th>\n",
       "      <th>mean</th>\n",
       "      <th>std</th>\n",
       "      <th>min</th>\n",
       "      <th>1%</th>\n",
       "      <th>5%</th>\n",
       "      <th>10%</th>\n",
       "      <th>25%</th>\n",
       "      <th>50%</th>\n",
       "      <th>75%</th>\n",
       "      <th>90%</th>\n",
       "      <th>99%</th>\n",
       "      <th>max</th>\n",
       "    </tr>\n",
       "  </thead>\n",
       "  <tbody>\n",
       "    <tr>\n",
       "      <th>id</th>\n",
       "      <td>174.0</td>\n",
       "      <td>130.040230</td>\n",
       "      <td>71.213134</td>\n",
       "      <td>1.000</td>\n",
       "      <td>3.460</td>\n",
       "      <td>13.65</td>\n",
       "      <td>28.30</td>\n",
       "      <td>67.25</td>\n",
       "      <td>135.500</td>\n",
       "      <td>190.750</td>\n",
       "      <td>221.70</td>\n",
       "      <td>244.270</td>\n",
       "      <td>249.000</td>\n",
       "    </tr>\n",
       "    <tr>\n",
       "      <th>age</th>\n",
       "      <td>169.0</td>\n",
       "      <td>55.000000</td>\n",
       "      <td>17.550946</td>\n",
       "      <td>2.000</td>\n",
       "      <td>3.680</td>\n",
       "      <td>12.20</td>\n",
       "      <td>33.80</td>\n",
       "      <td>48.00</td>\n",
       "      <td>60.000</td>\n",
       "      <td>66.000</td>\n",
       "      <td>72.00</td>\n",
       "      <td>81.640</td>\n",
       "      <td>90.000</td>\n",
       "    </tr>\n",
       "    <tr>\n",
       "      <th>bp</th>\n",
       "      <td>167.0</td>\n",
       "      <td>79.161677</td>\n",
       "      <td>16.110057</td>\n",
       "      <td>50.000</td>\n",
       "      <td>50.000</td>\n",
       "      <td>60.00</td>\n",
       "      <td>60.00</td>\n",
       "      <td>70.00</td>\n",
       "      <td>80.000</td>\n",
       "      <td>90.000</td>\n",
       "      <td>100.00</td>\n",
       "      <td>126.800</td>\n",
       "      <td>180.000</td>\n",
       "    </tr>\n",
       "    <tr>\n",
       "      <th>sg</th>\n",
       "      <td>141.0</td>\n",
       "      <td>1.013723</td>\n",
       "      <td>0.004448</td>\n",
       "      <td>1.005</td>\n",
       "      <td>1.005</td>\n",
       "      <td>1.01</td>\n",
       "      <td>1.01</td>\n",
       "      <td>1.01</td>\n",
       "      <td>1.015</td>\n",
       "      <td>1.015</td>\n",
       "      <td>1.02</td>\n",
       "      <td>1.025</td>\n",
       "      <td>1.025</td>\n",
       "    </tr>\n",
       "    <tr>\n",
       "      <th>al</th>\n",
       "      <td>142.0</td>\n",
       "      <td>1.767606</td>\n",
       "      <td>1.397391</td>\n",
       "      <td>0.000</td>\n",
       "      <td>0.000</td>\n",
       "      <td>0.00</td>\n",
       "      <td>0.00</td>\n",
       "      <td>0.25</td>\n",
       "      <td>2.000</td>\n",
       "      <td>3.000</td>\n",
       "      <td>4.00</td>\n",
       "      <td>4.000</td>\n",
       "      <td>5.000</td>\n",
       "    </tr>\n",
       "    <tr>\n",
       "      <th>su</th>\n",
       "      <td>139.0</td>\n",
       "      <td>0.762590</td>\n",
       "      <td>1.327429</td>\n",
       "      <td>0.000</td>\n",
       "      <td>0.000</td>\n",
       "      <td>0.00</td>\n",
       "      <td>0.00</td>\n",
       "      <td>0.00</td>\n",
       "      <td>0.000</td>\n",
       "      <td>1.000</td>\n",
       "      <td>3.00</td>\n",
       "      <td>4.620</td>\n",
       "      <td>5.000</td>\n",
       "    </tr>\n",
       "    <tr>\n",
       "      <th>bgr</th>\n",
       "      <td>147.0</td>\n",
       "      <td>178.646259</td>\n",
       "      <td>88.556677</td>\n",
       "      <td>70.000</td>\n",
       "      <td>74.920</td>\n",
       "      <td>84.60</td>\n",
       "      <td>92.00</td>\n",
       "      <td>110.50</td>\n",
       "      <td>157.000</td>\n",
       "      <td>219.500</td>\n",
       "      <td>297.40</td>\n",
       "      <td>455.640</td>\n",
       "      <td>490.000</td>\n",
       "    </tr>\n",
       "    <tr>\n",
       "      <th>bu</th>\n",
       "      <td>166.0</td>\n",
       "      <td>71.570482</td>\n",
       "      <td>60.079167</td>\n",
       "      <td>15.000</td>\n",
       "      <td>15.000</td>\n",
       "      <td>19.00</td>\n",
       "      <td>22.00</td>\n",
       "      <td>32.00</td>\n",
       "      <td>52.500</td>\n",
       "      <td>89.750</td>\n",
       "      <td>147.00</td>\n",
       "      <td>313.550</td>\n",
       "      <td>391.000</td>\n",
       "    </tr>\n",
       "    <tr>\n",
       "      <th>sc</th>\n",
       "      <td>167.0</td>\n",
       "      <td>4.304491</td>\n",
       "      <td>7.106767</td>\n",
       "      <td>0.600</td>\n",
       "      <td>0.666</td>\n",
       "      <td>0.83</td>\n",
       "      <td>1.00</td>\n",
       "      <td>1.40</td>\n",
       "      <td>2.300</td>\n",
       "      <td>4.200</td>\n",
       "      <td>9.66</td>\n",
       "      <td>26.720</td>\n",
       "      <td>76.000</td>\n",
       "    </tr>\n",
       "    <tr>\n",
       "      <th>sod</th>\n",
       "      <td>112.0</td>\n",
       "      <td>133.334821</td>\n",
       "      <td>14.314264</td>\n",
       "      <td>4.500</td>\n",
       "      <td>104.990</td>\n",
       "      <td>121.10</td>\n",
       "      <td>125.10</td>\n",
       "      <td>131.00</td>\n",
       "      <td>135.000</td>\n",
       "      <td>139.000</td>\n",
       "      <td>141.00</td>\n",
       "      <td>146.890</td>\n",
       "      <td>163.000</td>\n",
       "    </tr>\n",
       "    <tr>\n",
       "      <th>pot</th>\n",
       "      <td>111.0</td>\n",
       "      <td>5.122523</td>\n",
       "      <td>5.244073</td>\n",
       "      <td>2.700</td>\n",
       "      <td>2.900</td>\n",
       "      <td>3.25</td>\n",
       "      <td>3.50</td>\n",
       "      <td>3.90</td>\n",
       "      <td>4.300</td>\n",
       "      <td>4.900</td>\n",
       "      <td>5.60</td>\n",
       "      <td>35.750</td>\n",
       "      <td>47.000</td>\n",
       "    </tr>\n",
       "    <tr>\n",
       "      <th>hemo</th>\n",
       "      <td>141.0</td>\n",
       "      <td>10.700000</td>\n",
       "      <td>2.215014</td>\n",
       "      <td>3.100</td>\n",
       "      <td>5.680</td>\n",
       "      <td>6.60</td>\n",
       "      <td>7.90</td>\n",
       "      <td>9.50</td>\n",
       "      <td>10.900</td>\n",
       "      <td>12.200</td>\n",
       "      <td>13.40</td>\n",
       "      <td>15.360</td>\n",
       "      <td>16.100</td>\n",
       "    </tr>\n",
       "    <tr>\n",
       "      <th>pcv</th>\n",
       "      <td>127.0</td>\n",
       "      <td>33.456693</td>\n",
       "      <td>7.295091</td>\n",
       "      <td>9.000</td>\n",
       "      <td>16.260</td>\n",
       "      <td>22.30</td>\n",
       "      <td>25.00</td>\n",
       "      <td>29.00</td>\n",
       "      <td>33.000</td>\n",
       "      <td>38.000</td>\n",
       "      <td>42.00</td>\n",
       "      <td>52.000</td>\n",
       "      <td>52.000</td>\n",
       "    </tr>\n",
       "  </tbody>\n",
       "</table>\n",
       "</div>"
      ],
      "text/plain": [
       "      count        mean        std     min       1%      5%     10%     25%  \\\n",
       "id    174.0  130.040230  71.213134   1.000    3.460   13.65   28.30   67.25   \n",
       "age   169.0   55.000000  17.550946   2.000    3.680   12.20   33.80   48.00   \n",
       "bp    167.0   79.161677  16.110057  50.000   50.000   60.00   60.00   70.00   \n",
       "sg    141.0    1.013723   0.004448   1.005    1.005    1.01    1.01    1.01   \n",
       "al    142.0    1.767606   1.397391   0.000    0.000    0.00    0.00    0.25   \n",
       "su    139.0    0.762590   1.327429   0.000    0.000    0.00    0.00    0.00   \n",
       "bgr   147.0  178.646259  88.556677  70.000   74.920   84.60   92.00  110.50   \n",
       "bu    166.0   71.570482  60.079167  15.000   15.000   19.00   22.00   32.00   \n",
       "sc    167.0    4.304491   7.106767   0.600    0.666    0.83    1.00    1.40   \n",
       "sod   112.0  133.334821  14.314264   4.500  104.990  121.10  125.10  131.00   \n",
       "pot   111.0    5.122523   5.244073   2.700    2.900    3.25    3.50    3.90   \n",
       "hemo  141.0   10.700000   2.215014   3.100    5.680    6.60    7.90    9.50   \n",
       "pcv   127.0   33.456693   7.295091   9.000   16.260   22.30   25.00   29.00   \n",
       "\n",
       "          50%      75%     90%      99%      max  \n",
       "id    135.500  190.750  221.70  244.270  249.000  \n",
       "age    60.000   66.000   72.00   81.640   90.000  \n",
       "bp     80.000   90.000  100.00  126.800  180.000  \n",
       "sg      1.015    1.015    1.02    1.025    1.025  \n",
       "al      2.000    3.000    4.00    4.000    5.000  \n",
       "su      0.000    1.000    3.00    4.620    5.000  \n",
       "bgr   157.000  219.500  297.40  455.640  490.000  \n",
       "bu     52.500   89.750  147.00  313.550  391.000  \n",
       "sc      2.300    4.200    9.66   26.720   76.000  \n",
       "sod   135.000  139.000  141.00  146.890  163.000  \n",
       "pot     4.300    4.900    5.60   35.750   47.000  \n",
       "hemo   10.900   12.200   13.40   15.360   16.100  \n",
       "pcv    33.000   38.000   42.00   52.000   52.000  "
      ]
     },
     "execution_count": 51,
     "metadata": {},
     "output_type": "execute_result"
    }
   ],
   "source": [
    "df_ckd.describe(percentiles=(0.01,0.05,0.1,0.25,0.5,0.75,0.90,0.99)).T"
   ]
  },
  {
   "cell_type": "markdown",
   "metadata": {},
   "source": [
    "## Claim 1"
   ]
  },
  {
   "cell_type": "markdown",
   "metadata": {},
   "source": [
    "### Hypothesis definition"
   ]
  },
  {
   "cell_type": "markdown",
   "metadata": {},
   "source": [
    "***\n",
    "There is claim that the average age of patient who has chronic kidney disease is more that 50.   \n",
    "So, we have to collect samples out of the dataset and apply Z-test to come to a conclusion\n",
    "- H0 : Average age of patients having chronic kidney disease is less than or equal to 50. (Mu <= 50)\n",
    "- H1 : Average age of patients having chronic kidney disease is more than 50. (Mu > 50)\n",
    "***"
   ]
  },
  {
   "cell_type": "markdown",
   "metadata": {},
   "source": [
    "### Distribution of population Age"
   ]
  },
  {
   "cell_type": "code",
   "execution_count": 55,
   "metadata": {
    "ExecuteTime": {
     "end_time": "2021-09-02T14:02:39.760618Z",
     "start_time": "2021-09-02T14:02:39.161326Z"
    },
    "scrolled": true
   },
   "outputs": [
    {
     "data": {
      "text/plain": [
       "<AxesSubplot:xlabel='age', ylabel='Density'>"
      ]
     },
     "execution_count": 55,
     "metadata": {},
     "output_type": "execute_result"
    },
    {
     "data": {
      "image/png": "[encoded data removed]",
      "text/plain": [
       "<Figure size 720x360 with 1 Axes>"
      ]
     },
     "metadata": {
      "needs_background": "light"
     },
     "output_type": "display_data"
    }
   ],
   "source": [
    "plt.figure(figsize=(10,5))\n",
    "sns.distplot(df_ckd['age'])"
   ]
  },
  {
   "cell_type": "markdown",
   "metadata": {},
   "source": [
    "The polpulation age having chronic kidney disease is not normally distributed."
   ]
  },
  {
   "cell_type": "markdown",
   "metadata": {},
   "source": [
    "### Distribution of samples mean of age"
   ]
  },
  {
   "cell_type": "code",
   "execution_count": 77,
   "metadata": {
    "ExecuteTime": {
     "end_time": "2021-09-02T14:12:13.157148Z",
     "start_time": "2021-09-02T14:12:12.742872Z"
    }
   },
   "outputs": [
    {
     "name": "stdout",
     "output_type": "stream",
     "text": [
      "[55.43, 53.69, 57.17, 51.03, 59.42, 53.76, 54.56, 52.89, 53.33, 54.21, 54.74, 55.84, 55.6, 56.04, 55.65, 56.45, 56.75, 58.19, 51.56, 53.48, 53.57, 55.49, 54.08, 57.02, 52.57, 53.26, 53.9, 55.66, 58.36, 54.47, 56.03, 55.54, 55.6, 55.28, 56.04, 55.43, 55.59, 54.16, 53.84, 57.73, 55.54, 56.82, 52.11, 54.79, 53.91, 54.64, 54.57, 56.46, 55.55, 56.12, 53.22, 56.12, 56.01, 55.95, 54.84, 53.07, 56.15, 56.47, 57.64, 56.36, 57.38, 51.57, 54.38, 54.31, 55.16, 55.63, 56.35, 52.5, 54.97, 54.75, 54.33, 51.53, 52.74, 55.81, 54.47, 55.06, 55.43, 54.88, 56.97, 57.14, 54.22, 54.82, 52.23, 52.35, 54.11, 50.22, 55.81, 52.74, 54.59, 56.46, 54.36, 53.6, 56.7, 56.4, 55.54, 55.69, 56.36, 52.21, 56.13, 57.3]\n"
     ]
    },
    {
     "data": {
      "text/plain": [
       "<AxesSubplot:ylabel='Density'>"
      ]
     },
     "execution_count": 77,
     "metadata": {},
     "output_type": "execute_result"
    },
    {
     "data": {
      "image/png": "[encoded data removed]",
      "text/plain": [
       "<Figure size 432x288 with 1 Axes>"
      ]
     },
     "metadata": {
      "needs_background": "light"
     },
     "output_type": "display_data"
    }
   ],
   "source": [
    "sample_mean_list=[]\n",
    "for i in range(100):\n",
    "    sample_mean_list.append(np.random.choice(df_ckd['age'][df_ckd['age'].notna()],100).mean())\n",
    "print(sample_mean_list)\n",
    "sns.distplot(sample_mean_list)"
   ]
  },
  {
   "cell_type": "markdown",
   "metadata": {},
   "source": [
    "***\n",
    "- 100 age samples of sample size 100 are picked randomly from the dataset.   \n",
    "- Mean of each sample is appended to list and plotted distribution.   \n",
    "- According CLT distribution of sample mean is normal.   \n",
    "***"
   ]
  },
  {
   "cell_type": "markdown",
   "metadata": {},
   "source": [
    "### Z-test"
   ]
  },
  {
   "cell_type": "code",
   "execution_count": 100,
   "metadata": {
    "ExecuteTime": {
     "end_time": "2021-09-02T16:45:46.094388Z",
     "start_time": "2021-09-02T16:45:46.076393Z"
    }
   },
   "outputs": [
    {
     "name": "stdout",
     "output_type": "stream",
     "text": [
      "p value is :  3.075888826448444e-185\n",
      "ztest score is :  29.002315381245296\n",
      "With 95% confidence avearage age will lie between 54.633663329957095 and 55.30533667004293\n",
      "With 99% confidence avearage age will lie between 54.52813580008293 and 55.41086419991709\n"
     ]
    }
   ],
   "source": [
    "from statsmodels.stats.weightstats import ztest\n",
    "from statsmodels.stats.weightstats import zconfint\n",
    "\n",
    "#******Hypothesis definition*******\n",
    "# H0 : Mue<=50\n",
    "# H1 : Mue>50\n",
    "\n",
    "mean_h0=50\n",
    "ztest_score,p_value=ztest(sample_mean_list,value=mean_h0,alternative='larger')\n",
    "\n",
    "print('p value is : ',p_value)\n",
    "print('ztest score is : ',ztest_score)\n",
    "\n",
    "#***** 95% confidence level*****\n",
    "min_val,max_val=zconfint(sample_mean_list,value=0,alpha=0.05,alternative='two-sided')\n",
    "print(f'With 95% confidence avearage age will lie between {min_val} and {max_val}')\n",
    "\n",
    "#***** 99% confidence level*****\n",
    "min_val,max_val=zconfint(sample_mean_list,value=0,alpha=0.01,alternative='two-sided')\n",
    "print(f'With 99% confidence avearage age will lie between {min_val} and {max_val}')"
   ]
  },
  {
   "cell_type": "markdown",
   "metadata": {},
   "source": [
    "### Inference"
   ]
  },
  {
   "cell_type": "markdown",
   "metadata": {
    "ExecuteTime": {
     "end_time": "2021-09-02T16:36:32.468805Z",
     "start_time": "2021-09-02T16:36:31.566925Z"
    }
   },
   "source": [
    "***\n",
    "From above ztest we can infer,\n",
    "- P-value is almost near to zero which is less than critcal value (alpha) i.e 0.05\n",
    "- Hence we can reject the null hypothesis which indicates that the average age of patients having chronic kidney disease is more than 50.\n",
    "- And also with 95% confidence level we can say that the average age will lie between the range 54.63 and 55.30.\n",
    "- And also with 99% confidence level we can say that the average age will lie between the range 54.52 and 55.41.\n",
    "***"
   ]
  },
  {
   "cell_type": "markdown",
   "metadata": {},
   "source": [
    "## Claim 2"
   ]
  },
  {
   "cell_type": "markdown",
   "metadata": {},
   "source": [
    "### Hypothesis definition"
   ]
  },
  {
   "cell_type": "markdown",
   "metadata": {
    "ExecuteTime": {
     "end_time": "2021-09-03T15:39:57.704233Z",
     "start_time": "2021-09-03T15:39:56.812502Z"
    }
   },
   "source": [
    "***\n",
    "There is claim that the average bp of patient who has chronic kidney disease is more than that of not having chronic kidney disease.   \n",
    "So, we have to collect samples out of the dataset and apply Z-test to come to a conclusion\n",
    "- H0 : Average bp of patients having chronic kidney disease is less than or equal to that of not having chronic kidney disease. (Mu_ckd <= Mu_nckd)\n",
    "- H1 : Average bp of patients having chronic kidney disease is more than that of not having chronic kidney disease. (Mu_ckd > Mu_nckd)\n",
    "***"
   ]
  },
  {
   "cell_type": "markdown",
   "metadata": {
    "ExecuteTime": {
     "end_time": "2021-09-03T15:40:09.887856Z",
     "start_time": "2021-09-03T15:40:06.959060Z"
    }
   },
   "source": [
    "### Distribution of bp of patients having chronic kidney disease"
   ]
  },
  {
   "cell_type": "code",
   "execution_count": 105,
   "metadata": {
    "ExecuteTime": {
     "end_time": "2021-09-03T15:59:57.255593Z",
     "start_time": "2021-09-03T15:59:55.982735Z"
    }
   },
   "outputs": [
    {
     "data": {
      "text/plain": [
       "<AxesSubplot:xlabel='bp', ylabel='Density'>"
      ]
     },
     "execution_count": 105,
     "metadata": {},
     "output_type": "execute_result"
    },
    {
     "data": {
      "image/png": "[encoded data removed]",
      "text/plain": [
       "<Figure size 720x360 with 1 Axes>"
      ]
     },
     "metadata": {
      "needs_background": "light"
     },
     "output_type": "display_data"
    }
   ],
   "source": [
    "plt.figure(figsize=(10,5))\n",
    "sns.distplot(df_ckd['bp'])"
   ]
  },
  {
   "cell_type": "markdown",
   "metadata": {},
   "source": [
    "### Distribution of bp of patients not having chronic kidney disease"
   ]
  },
  {
   "cell_type": "code",
   "execution_count": 106,
   "metadata": {
    "ExecuteTime": {
     "end_time": "2021-09-03T16:01:29.046019Z",
     "start_time": "2021-09-03T16:01:28.578853Z"
    }
   },
   "outputs": [],
   "source": [
    "df_nckd=df[df['classification']=='notckd']"
   ]
  },
  {
   "cell_type": "code",
   "execution_count": 107,
   "metadata": {
    "ExecuteTime": {
     "end_time": "2021-09-03T16:01:40.143459Z",
     "start_time": "2021-09-03T16:01:39.121076Z"
    }
   },
   "outputs": [
    {
     "data": {
      "text/html": [
       "<div>\n",
       "<style scoped>\n",
       "    .dataframe tbody tr th:only-of-type {\n",
       "        vertical-align: middle;\n",
       "    }\n",
       "\n",
       "    .dataframe tbody tr th {\n",
       "        vertical-align: top;\n",
       "    }\n",
       "\n",
       "    .dataframe thead th {\n",
       "        text-align: right;\n",
       "    }\n",
       "</style>\n",
       "<table border=\"1\" class=\"dataframe\">\n",
       "  <thead>\n",
       "    <tr style=\"text-align: right;\">\n",
       "      <th></th>\n",
       "      <th>id</th>\n",
       "      <th>age</th>\n",
       "      <th>bp</th>\n",
       "      <th>sg</th>\n",
       "      <th>al</th>\n",
       "      <th>su</th>\n",
       "      <th>rbc</th>\n",
       "      <th>pc</th>\n",
       "      <th>pcc</th>\n",
       "      <th>ba</th>\n",
       "      <th>bgr</th>\n",
       "      <th>bu</th>\n",
       "      <th>sc</th>\n",
       "      <th>sod</th>\n",
       "      <th>pot</th>\n",
       "      <th>hemo</th>\n",
       "      <th>pcv</th>\n",
       "      <th>wc</th>\n",
       "      <th>rc</th>\n",
       "      <th>htn</th>\n",
       "      <th>dm</th>\n",
       "      <th>cad</th>\n",
       "      <th>appet</th>\n",
       "      <th>pe</th>\n",
       "      <th>ane</th>\n",
       "      <th>classification</th>\n",
       "    </tr>\n",
       "  </thead>\n",
       "  <tbody>\n",
       "    <tr>\n",
       "      <th>3</th>\n",
       "      <td>347</td>\n",
       "      <td>43.0</td>\n",
       "      <td>60.0</td>\n",
       "      <td>1.025</td>\n",
       "      <td>0.0</td>\n",
       "      <td>0.0</td>\n",
       "      <td>normal</td>\n",
       "      <td>normal</td>\n",
       "      <td>notpresent</td>\n",
       "      <td>notpresent</td>\n",
       "      <td>108.0</td>\n",
       "      <td>25.0</td>\n",
       "      <td>1.0</td>\n",
       "      <td>144.0</td>\n",
       "      <td>5.0</td>\n",
       "      <td>17.8</td>\n",
       "      <td>43.0</td>\n",
       "      <td>7200</td>\n",
       "      <td>5.5</td>\n",
       "      <td>no</td>\n",
       "      <td>no</td>\n",
       "      <td>no</td>\n",
       "      <td>good</td>\n",
       "      <td>no</td>\n",
       "      <td>no</td>\n",
       "      <td>notckd</td>\n",
       "    </tr>\n",
       "    <tr>\n",
       "      <th>6</th>\n",
       "      <td>351</td>\n",
       "      <td>29.0</td>\n",
       "      <td>80.0</td>\n",
       "      <td>1.020</td>\n",
       "      <td>0.0</td>\n",
       "      <td>0.0</td>\n",
       "      <td>normal</td>\n",
       "      <td>normal</td>\n",
       "      <td>notpresent</td>\n",
       "      <td>notpresent</td>\n",
       "      <td>83.0</td>\n",
       "      <td>49.0</td>\n",
       "      <td>0.9</td>\n",
       "      <td>139.0</td>\n",
       "      <td>3.3</td>\n",
       "      <td>17.5</td>\n",
       "      <td>40.0</td>\n",
       "      <td>9900</td>\n",
       "      <td>4.7</td>\n",
       "      <td>no</td>\n",
       "      <td>no</td>\n",
       "      <td>no</td>\n",
       "      <td>good</td>\n",
       "      <td>no</td>\n",
       "      <td>no</td>\n",
       "      <td>notckd</td>\n",
       "    </tr>\n",
       "    <tr>\n",
       "      <th>7</th>\n",
       "      <td>332</td>\n",
       "      <td>34.0</td>\n",
       "      <td>70.0</td>\n",
       "      <td>1.025</td>\n",
       "      <td>0.0</td>\n",
       "      <td>0.0</td>\n",
       "      <td>normal</td>\n",
       "      <td>normal</td>\n",
       "      <td>notpresent</td>\n",
       "      <td>notpresent</td>\n",
       "      <td>NaN</td>\n",
       "      <td>33.0</td>\n",
       "      <td>1.0</td>\n",
       "      <td>150.0</td>\n",
       "      <td>5.0</td>\n",
       "      <td>15.3</td>\n",
       "      <td>44.0</td>\n",
       "      <td>10500</td>\n",
       "      <td>6.1</td>\n",
       "      <td>no</td>\n",
       "      <td>no</td>\n",
       "      <td>no</td>\n",
       "      <td>good</td>\n",
       "      <td>no</td>\n",
       "      <td>no</td>\n",
       "      <td>notckd</td>\n",
       "    </tr>\n",
       "    <tr>\n",
       "      <th>10</th>\n",
       "      <td>311</td>\n",
       "      <td>56.0</td>\n",
       "      <td>60.0</td>\n",
       "      <td>1.025</td>\n",
       "      <td>0.0</td>\n",
       "      <td>0.0</td>\n",
       "      <td>normal</td>\n",
       "      <td>normal</td>\n",
       "      <td>notpresent</td>\n",
       "      <td>notpresent</td>\n",
       "      <td>132.0</td>\n",
       "      <td>18.0</td>\n",
       "      <td>1.1</td>\n",
       "      <td>147.0</td>\n",
       "      <td>4.7</td>\n",
       "      <td>13.7</td>\n",
       "      <td>45.0</td>\n",
       "      <td>7500</td>\n",
       "      <td>5.6</td>\n",
       "      <td>no</td>\n",
       "      <td>no</td>\n",
       "      <td>no</td>\n",
       "      <td>good</td>\n",
       "      <td>no</td>\n",
       "      <td>no</td>\n",
       "      <td>notckd</td>\n",
       "    </tr>\n",
       "    <tr>\n",
       "      <th>12</th>\n",
       "      <td>258</td>\n",
       "      <td>42.0</td>\n",
       "      <td>80.0</td>\n",
       "      <td>1.020</td>\n",
       "      <td>0.0</td>\n",
       "      <td>0.0</td>\n",
       "      <td>normal</td>\n",
       "      <td>normal</td>\n",
       "      <td>notpresent</td>\n",
       "      <td>notpresent</td>\n",
       "      <td>98.0</td>\n",
       "      <td>20.0</td>\n",
       "      <td>0.5</td>\n",
       "      <td>140.0</td>\n",
       "      <td>3.5</td>\n",
       "      <td>13.9</td>\n",
       "      <td>44.0</td>\n",
       "      <td>8400</td>\n",
       "      <td>5.5</td>\n",
       "      <td>no</td>\n",
       "      <td>no</td>\n",
       "      <td>no</td>\n",
       "      <td>good</td>\n",
       "      <td>no</td>\n",
       "      <td>no</td>\n",
       "      <td>notckd</td>\n",
       "    </tr>\n",
       "  </tbody>\n",
       "</table>\n",
       "</div>"
      ],
      "text/plain": [
       "     id   age    bp     sg   al   su     rbc      pc         pcc          ba  \\\n",
       "3   347  43.0  60.0  1.025  0.0  0.0  normal  normal  notpresent  notpresent   \n",
       "6   351  29.0  80.0  1.020  0.0  0.0  normal  normal  notpresent  notpresent   \n",
       "7   332  34.0  70.0  1.025  0.0  0.0  normal  normal  notpresent  notpresent   \n",
       "10  311  56.0  60.0  1.025  0.0  0.0  normal  normal  notpresent  notpresent   \n",
       "12  258  42.0  80.0  1.020  0.0  0.0  normal  normal  notpresent  notpresent   \n",
       "\n",
       "      bgr    bu   sc    sod  pot  hemo   pcv     wc   rc htn  dm cad appet  \\\n",
       "3   108.0  25.0  1.0  144.0  5.0  17.8  43.0   7200  5.5  no  no  no  good   \n",
       "6    83.0  49.0  0.9  139.0  3.3  17.5  40.0   9900  4.7  no  no  no  good   \n",
       "7     NaN  33.0  1.0  150.0  5.0  15.3  44.0  10500  6.1  no  no  no  good   \n",
       "10  132.0  18.0  1.1  147.0  4.7  13.7  45.0   7500  5.6  no  no  no  good   \n",
       "12   98.0  20.0  0.5  140.0  3.5  13.9  44.0   8400  5.5  no  no  no  good   \n",
       "\n",
       "    pe ane classification  \n",
       "3   no  no         notckd  \n",
       "6   no  no         notckd  \n",
       "7   no  no         notckd  \n",
       "10  no  no         notckd  \n",
       "12  no  no         notckd  "
      ]
     },
     "execution_count": 107,
     "metadata": {},
     "output_type": "execute_result"
    }
   ],
   "source": [
    "df_nckd.head()"
   ]
  },
  {
   "cell_type": "code",
   "execution_count": 108,
   "metadata": {
    "ExecuteTime": {
     "end_time": "2021-09-03T16:02:01.157085Z",
     "start_time": "2021-09-03T16:02:00.313182Z"
    },
    "scrolled": true
   },
   "outputs": [
    {
     "data": {
      "text/plain": [
       "<AxesSubplot:xlabel='bp', ylabel='Density'>"
      ]
     },
     "execution_count": 108,
     "metadata": {},
     "output_type": "execute_result"
    },
    {
     "data": {
      "image/png": "[encoded data removed]",
      "text/plain": [
       "<Figure size 720x360 with 1 Axes>"
      ]
     },
     "metadata": {
      "needs_background": "light"
     },
     "output_type": "display_data"
    }
   ],
   "source": [
    "plt.figure(figsize=(10,5))\n",
    "sns.distplot(df_nckd['bp'])"
   ]
  },
  {
   "cell_type": "markdown",
   "metadata": {
    "ExecuteTime": {
     "end_time": "2021-09-03T16:08:18.433424Z",
     "start_time": "2021-09-03T16:08:18.384417Z"
    }
   },
   "source": [
    "***\n",
    "Distribution of bp of patients having chronic kidney disease and not having both are not normal.   \n",
    "So, we will pick 100 sample from both with sample size 100.\n",
    "***"
   ]
  },
  {
   "cell_type": "code",
   "execution_count": 148,
   "metadata": {
    "ExecuteTime": {
     "end_time": "2021-09-03T16:58:16.757951Z",
     "start_time": "2021-09-03T16:58:16.143889Z"
    },
    "scrolled": false
   },
   "outputs": [
    {
     "name": "stdout",
     "output_type": "stream",
     "text": [
      "[80.3, 79.1, 80.1, 83.0, 76.2, 78.8, 81.0, 77.7, 80.3, 79.3, 79.1, 81.0, 79.0, 78.7, 79.5, 80.7, 79.4, 83.3, 77.4, 80.1, 78.6, 77.9, 77.9, 79.9, 76.9, 78.1, 83.6, 79.6, 78.2, 75.4, 77.5, 76.3, 79.9, 79.0, 77.3, 79.0, 81.7, 78.2, 80.1, 80.8, 78.1, 79.3, 80.3, 82.6, 79.2, 80.0, 78.5, 78.7, 79.0, 80.5, 77.7, 80.6, 78.9, 81.7, 79.6, 79.8, 79.6, 79.6, 78.4, 77.0, 80.1, 79.9, 79.6, 80.1, 80.7, 78.7, 78.0, 77.2, 80.9, 79.5, 80.1, 79.3, 80.1, 78.9, 81.3, 79.8, 81.0, 78.6, 75.9, 79.6, 79.4, 80.1, 80.7, 81.6, 79.0, 79.6, 77.4, 81.1, 78.1, 78.9, 81.3, 75.7, 78.0, 79.5, 76.7, 76.9, 79.6, 78.5, 78.4, 78.8]\n"
     ]
    },
    {
     "data": {
      "text/plain": [
       "<AxesSubplot:ylabel='Density'>"
      ]
     },
     "execution_count": 148,
     "metadata": {},
     "output_type": "execute_result"
    },
    {
     "data": {
      "image/png": "[encoded data removed]",
      "text/plain": [
       "<Figure size 432x288 with 1 Axes>"
      ]
     },
     "metadata": {
      "needs_background": "light"
     },
     "output_type": "display_data"
    }
   ],
   "source": [
    "sample_list_ckd=[]\n",
    "for i in range (100):\n",
    "    sample_list_ckd.append(np.random.choice(df_ckd[df_ckd['bp'].notna()]['bp'],100).mean())\n",
    "print(sample_list_ckd)\n",
    "sns.distplot(sample_list_ckd)"
   ]
  },
  {
   "cell_type": "markdown",
   "metadata": {},
   "source": [
    "Distribution of mean of sample of bp of patients having chronic kidney disease is normal"
   ]
  },
  {
   "cell_type": "code",
   "execution_count": 149,
   "metadata": {
    "ExecuteTime": {
     "end_time": "2021-09-03T16:58:26.290050Z",
     "start_time": "2021-09-03T16:58:25.776368Z"
    },
    "scrolled": false
   },
   "outputs": [
    {
     "name": "stdout",
     "output_type": "stream",
     "text": [
      "[71.7, 71.4, 71.5, 70.8, 70.5, 71.8, 71.6, 71.5, 70.8, 71.8, 70.3, 70.9, 70.7, 70.1, 71.1, 72.2, 70.3, 73.5, 70.1, 70.0, 70.2, 70.0, 71.4, 71.9, 72.4, 70.7, 71.0, 70.7, 71.6, 70.6, 72.5, 71.2, 70.6, 70.4, 72.0, 71.8, 70.3, 69.4, 73.2, 70.9, 71.2, 71.4, 72.0, 71.3, 72.0, 71.8, 71.5, 73.2, 71.4, 70.2, 70.8, 71.1, 71.5, 71.7, 71.2, 70.3, 71.1, 71.9, 70.6, 70.9, 70.6, 71.2, 70.1, 72.3, 72.4, 71.9, 70.1, 70.8, 71.0, 71.6, 70.8, 71.9, 72.0, 71.5, 69.2, 70.4, 71.5, 71.6, 71.8, 70.9, 72.8, 70.8, 71.6, 72.7, 71.5, 70.4, 71.5, 70.3, 71.3, 71.6, 70.7, 70.9, 71.6, 71.8, 70.4, 70.7, 71.5, 71.6, 71.1, 70.7]\n"
     ]
    },
    {
     "data": {
      "text/plain": [
       "<AxesSubplot:ylabel='Density'>"
      ]
     },
     "execution_count": 149,
     "metadata": {},
     "output_type": "execute_result"
    },
    {
     "data": {
      "image/png": "[encoded data removed]",
      "text/plain": [
       "<Figure size 432x288 with 1 Axes>"
      ]
     },
     "metadata": {
      "needs_background": "light"
     },
     "output_type": "display_data"
    }
   ],
   "source": [
    "sample_list_nckd=[]\n",
    "for i in range (100):\n",
    "    sample_list_nckd.append(np.random.choice(df_nckd[df_nckd['bp'].notna()]['bp'],100).mean())\n",
    "print(sample_list_nckd)\n",
    "sns.distplot(sample_list_nckd)"
   ]
  },
  {
   "cell_type": "markdown",
   "metadata": {
    "ExecuteTime": {
     "end_time": "2021-09-03T16:41:58.537678Z",
     "start_time": "2021-09-03T16:41:58.521672Z"
    }
   },
   "source": [
    "Distribution of mean of sample of bp of patients not having chronic kidney disease is normal"
   ]
  },
  {
   "cell_type": "markdown",
   "metadata": {},
   "source": [
    "### Z-test"
   ]
  },
  {
   "cell_type": "code",
   "execution_count": 153,
   "metadata": {
    "ExecuteTime": {
     "end_time": "2021-09-03T17:00:47.033718Z",
     "start_time": "2021-09-03T17:00:47.001697Z"
    }
   },
   "outputs": [
    {
     "name": "stdout",
     "output_type": "stream",
     "text": [
      "p value is :  0.0\n",
      "ztest score is :  45.558783945373726\n",
      "With 95% confidence avearage bp of patients having ckd will lie between 78.96640163238284 and 79.58559836761718\n",
      "With 95% confidence avearage bp of patients not having ckd will lie between 71.05985458728668 and 71.37214541271334\n"
     ]
    }
   ],
   "source": [
    "from statsmodels.stats.weightstats import ztest\n",
    "from statsmodels.stats.weightstats import zconfint\n",
    "\n",
    "#******Hypothesis definition*******\n",
    "# H0 : (Mu_ckd <= Mu_nckd)\n",
    "# H1 : (Mu_ckd > Mu_nckd)\n",
    "\n",
    "ztest_score,p_value=ztest(x1=sample_list_ckd,x2=sample_list_nckd,value=0,alternative='two-sided')\n",
    "\n",
    "print('p value is : ',p_value)\n",
    "print('ztest score is : ',ztest_score)\n",
    "\n",
    "#***** 95% confidence level*****\n",
    "min_val,max_val=zconfint(sample_list_ckd,value=0,alpha=0.05,alternative='two-sided')\n",
    "print(f'With 95% confidence avearage bp of patients having ckd will lie between {min_val} and {max_val}')\n",
    "\n",
    "#***** 95% confidence level*****\n",
    "min_val,max_val=zconfint(sample_list_nckd,value=0,alpha=0.05,alternative='two-sided')\n",
    "print(f'With 95% confidence avearage bp of patients not having ckd will lie between {min_val} and {max_val}')"
   ]
  },
  {
   "cell_type": "markdown",
   "metadata": {
    "ExecuteTime": {
     "end_time": "2021-09-03T16:56:05.159868Z",
     "start_time": "2021-09-03T16:56:04.979063Z"
    }
   },
   "source": [
    "### Inference"
   ]
  },
  {
   "cell_type": "markdown",
   "metadata": {
    "ExecuteTime": {
     "end_time": "2021-09-03T17:04:38.367464Z",
     "start_time": "2021-09-03T17:04:38.335490Z"
    }
   },
   "source": [
    "***\n",
    "From above ztest we can infer,\n",
    "- P-value is zero which is less than critcal value (alpha) i.e 0.05\n",
    "- Hence we can reject the null hypothesis which indicates that the average bp of patients having chronic kidney disease is more than that of not having chronic kidney disease.\n",
    "- And also with 95% confidence level we can say that the average bp of patients having chronic kidney disease will lie between the range 78.96 and 79.58.\n",
    "- And also with 99% confidence level we can say that the average bp of patients not having chronic kidney disease  will lie between the range 71.05 and 71.37.\n",
    "***"
   ]
  }
 ],
 "metadata": {
  "kernelspec": {
   "display_name": "Python 3",
   "language": "python",
   "name": "python3"
  },
  "language_info": {
   "codemirror_mode": {
    "name": "ipython",
    "version": 3
   },
   "file_extension": ".py",
   "mimetype": "text/x-python",
   "name": "python",
   "nbconvert_exporter": "python",
   "pygments_lexer": "ipython3",
   "version": "3.8.5"
  },
  "toc": {
   "base_numbering": 1,
   "nav_menu": {},
   "number_sections": true,
   "sideBar": true,
   "skip_h1_title": false,
   "title_cell": "Table of Contents",
   "title_sidebar": "Contents",
   "toc_cell": false,
   "toc_position": {},
   "toc_section_display": true,
   "toc_window_display": true
  }
 },
 "nbformat": 4,
 "nbformat_minor": 4
}
